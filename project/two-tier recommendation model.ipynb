{
 "cells": [
  {
   "cell_type": "markdown",
   "metadata": {},
   "source": [
    "# Двухуровневая модель рекомендаций товаров для пользователя\n"
   ]
  },
  {
   "cell_type": "code",
   "execution_count": 1,
   "metadata": {},
   "outputs": [
    {
     "name": "stderr",
     "output_type": "stream",
     "text": [
      "d:\\anaconda3\\envs\\cnn\\lib\\site-packages\\tqdm\\std.py:668: FutureWarning: The Panel class is removed from pandas. Accessing it from the top-level namespace will also be removed in the next version\n",
      "  from pandas import Panel\n"
     ]
    }
   ],
   "source": [
    "import pandas as pd\n",
    "import numpy as np\n",
    "import matplotlib.pyplot as plt\n",
    "%matplotlib inline\n",
    "\n",
    "from tqdm import tqdm\n",
    "tqdm.pandas()\n",
    "from sklearn.model_selection import train_test_split\n",
    "\n",
    "# Для работы с матрицами\n",
    "from scipy.sparse import csr_matrix\n",
    "\n",
    "\n",
    "# Матричная факторизация\n",
    "from implicit import als\n",
    "\n",
    "# Модель второго уровня\n",
    "from lightgbm import LGBMClassifier\n",
    "from sklearn.model_selection import GridSearchCV\n",
    "\n",
    "import os, sys\n",
    "module_path = os.path.abspath(os.path.join(os.pardir))\n",
    "if module_path not in sys.path:\n",
    "    sys.path.append(module_path)\n",
    "\n",
    "# Написанные нами функции\n",
    "from src.metrics import precision_at_k, money_precision_at_k\n",
    "from src.utils import prefilter_items\n",
    "from src.recommenders import MainRecommender\n",
    "from src.preprocessing import new_features, train_test_preprocessing, get_important_features, get_final_recomendation"
   ]
  },
  {
   "cell_type": "code",
   "execution_count": 2,
   "metadata": {},
   "outputs": [],
   "source": [
    "pd.set_option('display.max_columns', None)"
   ]
  },
  {
   "cell_type": "code",
   "execution_count": 3,
   "metadata": {},
   "outputs": [],
   "source": [
    "data = pd.read_csv('../data/retail_train.csv')\n",
    "item_features = pd.read_csv('../data/product.csv')\n",
    "user_features = pd.read_csv('../data/hh_demographic.csv')\n",
    "TEST_1_PATH = '../data/retail_test1.csv'\n",
    "\n",
    "# column processing\n",
    "item_features.columns = [col.lower() for col in item_features.columns]\n",
    "user_features.columns = [col.lower() for col in user_features.columns]\n",
    "\n",
    "item_features.rename(columns={'product_id': 'item_id'}, inplace=True)\n",
    "user_features.rename(columns={'household_key': 'user_id'}, inplace=True)\n",
    "test_1 = pd.read_csv(TEST_1_PATH)\n",
    "\n",
    "N=150 # Количество рекомендаций\n",
    "\n",
    "VAL_SIZE = 5\n",
    "\n",
    "train_1 = data[data['week_no'] < data['week_no'].max() - (VAL_SIZE)]\n",
    "val = data[data['week_no'] >= data['week_no'].max() - (VAL_SIZE)]\n",
    "\n",
    "train_2 = val.copy()"
   ]
  },
  {
   "cell_type": "code",
   "execution_count": 4,
   "metadata": {},
   "outputs": [
    {
     "name": "stdout",
     "output_type": "stream",
     "text": [
      "Decreased # items from 85828 to 3001\n"
     ]
    }
   ],
   "source": [
    "n_items_before = train_1['item_id'].nunique()\n",
    "train_1 = prefilter_items(train_1, item_features=item_features, take_n_popular= 3000)\n",
    "n_items_after = train_1['item_id'].nunique()\n",
    "\n",
    "print(f'Decreased # items from {n_items_before} to {n_items_after}')"
   ]
  },
  {
   "cell_type": "code",
   "execution_count": 5,
   "metadata": {},
   "outputs": [
    {
     "name": "stderr",
     "output_type": "stream",
     "text": [
      "WARNING:root:Intel MKL BLAS detected. Its highly recommend to set the environment variable 'export MKL_NUM_THREADS=1' to disable its internal multithreading\n"
     ]
    },
    {
     "data": {
      "application/vnd.jupyter.widget-view+json": {
       "model_id": "cb9d9c3e79514beb943a87b31e2e9592",
       "version_major": 2,
       "version_minor": 0
      },
      "text/plain": [
       "HBox(children=(FloatProgress(value=0.0, max=15.0), HTML(value='')))"
      ]
     },
     "metadata": {},
     "output_type": "display_data"
    },
    {
     "name": "stdout",
     "output_type": "stream",
     "text": [
      "\n"
     ]
    },
    {
     "data": {
      "application/vnd.jupyter.widget-view+json": {
       "model_id": "5bc3db8a74b64794832fc79d5fd7c12a",
       "version_major": 2,
       "version_minor": 0
      },
      "text/plain": [
       "HBox(children=(FloatProgress(value=0.0, max=3001.0), HTML(value='')))"
      ]
     },
     "metadata": {},
     "output_type": "display_data"
    },
    {
     "name": "stdout",
     "output_type": "stream",
     "text": [
      "\n"
     ]
    }
   ],
   "source": [
    "recommender = MainRecommender(train_1)"
   ]
  },
  {
   "cell_type": "code",
   "execution_count": 6,
   "metadata": {},
   "outputs": [],
   "source": [
    "items_emb_df = recommender.items_emb_df\n",
    "users_emb_df = recommender.users_emb_df"
   ]
  },
  {
   "cell_type": "code",
   "execution_count": 7,
   "metadata": {},
   "outputs": [
    {
     "name": "stdout",
     "output_type": "stream",
     "text": [
      "Wall time: 17.1 s\n"
     ]
    },
    {
     "data": {
      "text/html": [
       "<div>\n",
       "<style scoped>\n",
       "    .dataframe tbody tr th:only-of-type {\n",
       "        vertical-align: middle;\n",
       "    }\n",
       "\n",
       "    .dataframe tbody tr th {\n",
       "        vertical-align: top;\n",
       "    }\n",
       "\n",
       "    .dataframe thead th {\n",
       "        text-align: right;\n",
       "    }\n",
       "</style>\n",
       "<table border=\"1\" class=\"dataframe\">\n",
       "  <thead>\n",
       "    <tr style=\"text-align: right;\">\n",
       "      <th></th>\n",
       "      <th>user_id</th>\n",
       "      <th>basket_id</th>\n",
       "      <th>day</th>\n",
       "      <th>item_id</th>\n",
       "      <th>quantity</th>\n",
       "      <th>sales_value</th>\n",
       "      <th>store_id</th>\n",
       "      <th>retail_disc</th>\n",
       "      <th>trans_time</th>\n",
       "      <th>week_no</th>\n",
       "      <th>coupon_disc_x</th>\n",
       "      <th>coupon_match_disc</th>\n",
       "      <th>price</th>\n",
       "      <th>manufacturer</th>\n",
       "      <th>department</th>\n",
       "      <th>brand</th>\n",
       "      <th>commodity_desc</th>\n",
       "      <th>sub_commodity_desc</th>\n",
       "      <th>curr_size_of_product</th>\n",
       "      <th>0_x</th>\n",
       "      <th>1_x</th>\n",
       "      <th>2_x</th>\n",
       "      <th>3_x</th>\n",
       "      <th>4_x</th>\n",
       "      <th>5_x</th>\n",
       "      <th>6_x</th>\n",
       "      <th>7_x</th>\n",
       "      <th>8_x</th>\n",
       "      <th>9_x</th>\n",
       "      <th>10_x</th>\n",
       "      <th>11_x</th>\n",
       "      <th>12_x</th>\n",
       "      <th>13_x</th>\n",
       "      <th>14_x</th>\n",
       "      <th>15_x</th>\n",
       "      <th>16_x</th>\n",
       "      <th>17_x</th>\n",
       "      <th>18_x</th>\n",
       "      <th>19_x</th>\n",
       "      <th>coupon_disc_y</th>\n",
       "      <th>quantity_of_sales</th>\n",
       "      <th>quantity_of_sales_per_week</th>\n",
       "      <th>qnt_of_sales_per_dep</th>\n",
       "      <th>qnt_of_sales_per_item_per_dep_per_week</th>\n",
       "      <th>qnt_of_sales_per_sub_commodity_desc</th>\n",
       "      <th>qnt_of_sales_per_item_per_sub_commodity_desc_per_week</th>\n",
       "      <th>marital_status_code</th>\n",
       "      <th>homeowner_desc</th>\n",
       "      <th>hh_comp_desc</th>\n",
       "      <th>household_size_desc</th>\n",
       "      <th>0_y</th>\n",
       "      <th>1_y</th>\n",
       "      <th>2_y</th>\n",
       "      <th>3_y</th>\n",
       "      <th>4_y</th>\n",
       "      <th>5_y</th>\n",
       "      <th>6_y</th>\n",
       "      <th>7_y</th>\n",
       "      <th>8_y</th>\n",
       "      <th>9_y</th>\n",
       "      <th>10_y</th>\n",
       "      <th>11_y</th>\n",
       "      <th>12_y</th>\n",
       "      <th>13_y</th>\n",
       "      <th>14_y</th>\n",
       "      <th>15_y</th>\n",
       "      <th>16_y</th>\n",
       "      <th>17_y</th>\n",
       "      <th>18_y</th>\n",
       "      <th>19_y</th>\n",
       "      <th>mean_time</th>\n",
       "      <th>age</th>\n",
       "      <th>income</th>\n",
       "      <th>kids</th>\n",
       "      <th>average_basket</th>\n",
       "      <th>sum_per_week</th>\n",
       "      <th>count_purchases_week_mean</th>\n",
       "      <th>sum_purchases_week_mean</th>\n",
       "      <th>target</th>\n",
       "    </tr>\n",
       "  </thead>\n",
       "  <tbody>\n",
       "    <tr>\n",
       "      <th>0</th>\n",
       "      <td>843</td>\n",
       "      <td>40955282722</td>\n",
       "      <td>622</td>\n",
       "      <td>845193</td>\n",
       "      <td>3</td>\n",
       "      <td>5.37</td>\n",
       "      <td>364</td>\n",
       "      <td>-1.5</td>\n",
       "      <td>19</td>\n",
       "      <td>90</td>\n",
       "      <td>0.0</td>\n",
       "      <td>0.0</td>\n",
       "      <td>1.79</td>\n",
       "      <td>999999999</td>\n",
       "      <td>GROCERY</td>\n",
       "      <td>National</td>\n",
       "      <td>FROZEN PIZZA</td>\n",
       "      <td>SNACKS/APPETIZERS</td>\n",
       "      <td>10.5 OZ</td>\n",
       "      <td>-0.001092</td>\n",
       "      <td>0.007983</td>\n",
       "      <td>0.012715</td>\n",
       "      <td>0.00443</td>\n",
       "      <td>0.001487</td>\n",
       "      <td>0.015562</td>\n",
       "      <td>0.010285</td>\n",
       "      <td>0.00271</td>\n",
       "      <td>0.005241</td>\n",
       "      <td>0.001169</td>\n",
       "      <td>-0.001434</td>\n",
       "      <td>0.007415</td>\n",
       "      <td>0.004361</td>\n",
       "      <td>0.00396</td>\n",
       "      <td>-0.003372</td>\n",
       "      <td>-0.011868</td>\n",
       "      <td>-0.00395</td>\n",
       "      <td>0.005651</td>\n",
       "      <td>0.016036</td>\n",
       "      <td>0.009001</td>\n",
       "      <td>0.0</td>\n",
       "      <td>52</td>\n",
       "      <td>8.666667</td>\n",
       "      <td>112255</td>\n",
       "      <td>0.137313</td>\n",
       "      <td>893</td>\n",
       "      <td>0.146202</td>\n",
       "      <td>0</td>\n",
       "      <td>0</td>\n",
       "      <td>0</td>\n",
       "      <td>0</td>\n",
       "      <td>0.0</td>\n",
       "      <td>0.0</td>\n",
       "      <td>0.0</td>\n",
       "      <td>0.0</td>\n",
       "      <td>0.0</td>\n",
       "      <td>0.0</td>\n",
       "      <td>0.0</td>\n",
       "      <td>0.0</td>\n",
       "      <td>0.0</td>\n",
       "      <td>0.0</td>\n",
       "      <td>0.0</td>\n",
       "      <td>0.0</td>\n",
       "      <td>0.0</td>\n",
       "      <td>0.0</td>\n",
       "      <td>0.0</td>\n",
       "      <td>0.0</td>\n",
       "      <td>0.0</td>\n",
       "      <td>0.0</td>\n",
       "      <td>0.0</td>\n",
       "      <td>0.0</td>\n",
       "      <td>0.0</td>\n",
       "      <td>0.0</td>\n",
       "      <td>0.0</td>\n",
       "      <td>0.0</td>\n",
       "      <td>0.0</td>\n",
       "      <td>0.0</td>\n",
       "      <td>0.002468</td>\n",
       "      <td>0.013529</td>\n",
       "      <td>1.0</td>\n",
       "    </tr>\n",
       "    <tr>\n",
       "      <th>1</th>\n",
       "      <td>843</td>\n",
       "      <td>40955282722</td>\n",
       "      <td>622</td>\n",
       "      <td>845193</td>\n",
       "      <td>3</td>\n",
       "      <td>5.37</td>\n",
       "      <td>364</td>\n",
       "      <td>-1.5</td>\n",
       "      <td>19</td>\n",
       "      <td>90</td>\n",
       "      <td>0.0</td>\n",
       "      <td>0.0</td>\n",
       "      <td>1.79</td>\n",
       "      <td>999999999</td>\n",
       "      <td>GROCERY</td>\n",
       "      <td>National</td>\n",
       "      <td>FROZEN PIZZA</td>\n",
       "      <td>SNACKS/APPETIZERS</td>\n",
       "      <td>10.5 OZ</td>\n",
       "      <td>-0.001092</td>\n",
       "      <td>0.007983</td>\n",
       "      <td>0.012715</td>\n",
       "      <td>0.00443</td>\n",
       "      <td>0.001487</td>\n",
       "      <td>0.015562</td>\n",
       "      <td>0.010285</td>\n",
       "      <td>0.00271</td>\n",
       "      <td>0.005241</td>\n",
       "      <td>0.001169</td>\n",
       "      <td>-0.001434</td>\n",
       "      <td>0.007415</td>\n",
       "      <td>0.004361</td>\n",
       "      <td>0.00396</td>\n",
       "      <td>-0.003372</td>\n",
       "      <td>-0.011868</td>\n",
       "      <td>-0.00395</td>\n",
       "      <td>0.005651</td>\n",
       "      <td>0.016036</td>\n",
       "      <td>0.009001</td>\n",
       "      <td>0.0</td>\n",
       "      <td>52</td>\n",
       "      <td>8.666667</td>\n",
       "      <td>112255</td>\n",
       "      <td>0.137313</td>\n",
       "      <td>893</td>\n",
       "      <td>0.146202</td>\n",
       "      <td>0</td>\n",
       "      <td>0</td>\n",
       "      <td>0</td>\n",
       "      <td>0</td>\n",
       "      <td>0.0</td>\n",
       "      <td>0.0</td>\n",
       "      <td>0.0</td>\n",
       "      <td>0.0</td>\n",
       "      <td>0.0</td>\n",
       "      <td>0.0</td>\n",
       "      <td>0.0</td>\n",
       "      <td>0.0</td>\n",
       "      <td>0.0</td>\n",
       "      <td>0.0</td>\n",
       "      <td>0.0</td>\n",
       "      <td>0.0</td>\n",
       "      <td>0.0</td>\n",
       "      <td>0.0</td>\n",
       "      <td>0.0</td>\n",
       "      <td>0.0</td>\n",
       "      <td>0.0</td>\n",
       "      <td>0.0</td>\n",
       "      <td>0.0</td>\n",
       "      <td>0.0</td>\n",
       "      <td>0.0</td>\n",
       "      <td>0.0</td>\n",
       "      <td>0.0</td>\n",
       "      <td>0.0</td>\n",
       "      <td>0.0</td>\n",
       "      <td>0.0</td>\n",
       "      <td>0.002468</td>\n",
       "      <td>0.013529</td>\n",
       "      <td>1.0</td>\n",
       "    </tr>\n",
       "  </tbody>\n",
       "</table>\n",
       "</div>"
      ],
      "text/plain": [
       "   user_id    basket_id  day  item_id  quantity  sales_value  store_id  \\\n",
       "0      843  40955282722  622   845193         3         5.37       364   \n",
       "1      843  40955282722  622   845193         3         5.37       364   \n",
       "\n",
       "   retail_disc  trans_time  week_no  coupon_disc_x  coupon_match_disc  price  \\\n",
       "0         -1.5          19       90            0.0                0.0   1.79   \n",
       "1         -1.5          19       90            0.0                0.0   1.79   \n",
       "\n",
       "   manufacturer department     brand commodity_desc sub_commodity_desc  \\\n",
       "0     999999999    GROCERY  National   FROZEN PIZZA  SNACKS/APPETIZERS   \n",
       "1     999999999    GROCERY  National   FROZEN PIZZA  SNACKS/APPETIZERS   \n",
       "\n",
       "  curr_size_of_product       0_x       1_x       2_x      3_x       4_x  \\\n",
       "0              10.5 OZ -0.001092  0.007983  0.012715  0.00443  0.001487   \n",
       "1              10.5 OZ -0.001092  0.007983  0.012715  0.00443  0.001487   \n",
       "\n",
       "        5_x       6_x      7_x       8_x       9_x      10_x      11_x  \\\n",
       "0  0.015562  0.010285  0.00271  0.005241  0.001169 -0.001434  0.007415   \n",
       "1  0.015562  0.010285  0.00271  0.005241  0.001169 -0.001434  0.007415   \n",
       "\n",
       "       12_x     13_x      14_x      15_x     16_x      17_x      18_x  \\\n",
       "0  0.004361  0.00396 -0.003372 -0.011868 -0.00395  0.005651  0.016036   \n",
       "1  0.004361  0.00396 -0.003372 -0.011868 -0.00395  0.005651  0.016036   \n",
       "\n",
       "       19_x  coupon_disc_y  quantity_of_sales  quantity_of_sales_per_week  \\\n",
       "0  0.009001            0.0                 52                    8.666667   \n",
       "1  0.009001            0.0                 52                    8.666667   \n",
       "\n",
       "   qnt_of_sales_per_dep  qnt_of_sales_per_item_per_dep_per_week  \\\n",
       "0                112255                                0.137313   \n",
       "1                112255                                0.137313   \n",
       "\n",
       "   qnt_of_sales_per_sub_commodity_desc  \\\n",
       "0                                  893   \n",
       "1                                  893   \n",
       "\n",
       "   qnt_of_sales_per_item_per_sub_commodity_desc_per_week marital_status_code  \\\n",
       "0                                           0.146202                       0   \n",
       "1                                           0.146202                       0   \n",
       "\n",
       "  homeowner_desc hh_comp_desc household_size_desc  0_y  1_y  2_y  3_y  4_y  \\\n",
       "0              0            0                   0  0.0  0.0  0.0  0.0  0.0   \n",
       "1              0            0                   0  0.0  0.0  0.0  0.0  0.0   \n",
       "\n",
       "   5_y  6_y  7_y  8_y  9_y  10_y  11_y  12_y  13_y  14_y  15_y  16_y  17_y  \\\n",
       "0  0.0  0.0  0.0  0.0  0.0   0.0   0.0   0.0   0.0   0.0   0.0   0.0   0.0   \n",
       "1  0.0  0.0  0.0  0.0  0.0   0.0   0.0   0.0   0.0   0.0   0.0   0.0   0.0   \n",
       "\n",
       "   18_y  19_y  mean_time  age  income  kids  average_basket  sum_per_week  \\\n",
       "0   0.0   0.0        0.0  0.0     0.0   0.0             0.0           0.0   \n",
       "1   0.0   0.0        0.0  0.0     0.0   0.0             0.0           0.0   \n",
       "\n",
       "   count_purchases_week_mean  sum_purchases_week_mean  target  \n",
       "0                   0.002468                 0.013529     1.0  \n",
       "1                   0.002468                 0.013529     1.0  "
      ]
     },
     "execution_count": 7,
     "metadata": {},
     "output_type": "execute_result"
    }
   ],
   "source": [
    "%%time\n",
    "train = new_features(train_2, train_1, recommender, item_features, user_features, items_emb_df, users_emb_df, N)\n",
    "train.head(2)"
   ]
  },
  {
   "cell_type": "code",
   "execution_count": 8,
   "metadata": {},
   "outputs": [],
   "source": [
    "X_train = train.drop(['target'], axis=1)\n",
    "y_train = train[['target']]"
   ]
  },
  {
   "cell_type": "code",
   "execution_count": 9,
   "metadata": {},
   "outputs": [],
   "source": [
    "cat_feats=[]\n",
    "for y in X_train.columns:\n",
    "    if(X_train[y].dtype == np.object):\n",
    "          cat_feats.append(y)\n",
    "            \n",
    "X_train[cat_feats + ['user_id', 'item_id']] = X_train[cat_feats + ['user_id', 'item_id']].astype('category')"
   ]
  },
  {
   "cell_type": "code",
   "execution_count": 10,
   "metadata": {},
   "outputs": [],
   "source": [
    "test = new_features(data, train_1, recommender, item_features, user_features, items_emb_df, users_emb_df, N)\n",
    "X_test = test.drop(['target'], axis=1)\n",
    "y_test = test[['target']]\n",
    "X_test[cat_feats + ['user_id', 'item_id']] = X_test[cat_feats + ['user_id', 'item_id']].astype('category')"
   ]
  },
  {
   "cell_type": "code",
   "execution_count": 11,
   "metadata": {},
   "outputs": [
    {
     "name": "stderr",
     "output_type": "stream",
     "text": [
      "d:\\anaconda3\\envs\\cnn\\lib\\site-packages\\sklearn\\utils\\validation.py:73: DataConversionWarning: A column-vector y was passed when a 1d array was expected. Please change the shape of y to (n_samples, ), for example using ravel().\n",
      "  return f(**kwargs)\n",
      "d:\\anaconda3\\envs\\cnn\\lib\\site-packages\\lightgbm\\basic.py:863: UserWarning: categorical_column in param dict is overridden.\n",
      "  warnings.warn('{} in param dict is overridden.'.format(cat_alias))\n"
     ]
    },
    {
     "name": "stdout",
     "output_type": "stream",
     "text": [
      "Wall time: 3.38 s\n"
     ]
    }
   ],
   "source": [
    "%%time\n",
    "lgb = LGBMClassifier(objective='binary', max_depth=7, categorical_column=cat_feats)\n",
    "basic_feats = get_important_features(lgb, X_train, y_train)"
   ]
  },
  {
   "cell_type": "code",
   "execution_count": 12,
   "metadata": {},
   "outputs": [
    {
     "name": "stderr",
     "output_type": "stream",
     "text": [
      "d:\\anaconda3\\envs\\cnn\\lib\\site-packages\\lightgbm\\basic.py:842: UserWarning: categorical_feature keyword has been found in `params` and will be ignored.\n",
      "Please use categorical_feature argument of the Dataset constructor to pass this parameter.\n",
      "  .format(key))\n",
      "d:\\anaconda3\\envs\\cnn\\lib\\site-packages\\lightgbm\\basic.py:863: UserWarning: categorical_feature in param dict is overridden.\n",
      "  warnings.warn('{} in param dict is overridden.'.format(cat_alias))\n"
     ]
    },
    {
     "name": "stdout",
     "output_type": "stream",
     "text": [
      "Wall time: 3.12 s\n"
     ]
    },
    {
     "data": {
      "text/plain": [
       "LGBMClassifier(categorical_feature=['department', 'brand', 'commodity_desc',\n",
       "                                    'sub_commodity_desc',\n",
       "                                    'curr_size_of_product',\n",
       "                                    'marital_status_code', 'homeowner_desc',\n",
       "                                    'hh_comp_desc', 'household_size_desc'],\n",
       "               max_depth=7, objective='binary')"
      ]
     },
     "execution_count": 12,
     "metadata": {},
     "output_type": "execute_result"
    }
   ],
   "source": [
    "%%time\n",
    "lgb = LGBMClassifier(\n",
    "    objective='binary',\n",
    "    max_depth=7,\n",
    "    categorical_feature=cat_feats\n",
    ")\n",
    "lgb.fit(X_train[basic_feats], y_train)"
   ]
  },
  {
   "cell_type": "code",
   "execution_count": 13,
   "metadata": {},
   "outputs": [
    {
     "name": "stdout",
     "output_type": "stream",
     "text": [
      "Wall time: 55 s\n"
     ]
    }
   ],
   "source": [
    "%%time\n",
    "preds = lgb.predict(X_test[basic_feats])\n",
    "test_preds_proba = lgb.predict_proba(X_test[basic_feats])[:, 1]"
   ]
  },
  {
   "cell_type": "code",
   "execution_count": 14,
   "metadata": {},
   "outputs": [
    {
     "name": "stderr",
     "output_type": "stream",
     "text": [
      "100%|█████████████████████████████████████████████████████████████████████████████████████████████████████████████████████████████████████████████████████████████████████████████████████████████████████████████████████████████████████████████████████████████████████████████████| 2499/2499 [14:57<00:00,  2.78it/s]\n"
     ]
    }
   ],
   "source": [
    "result_train = get_final_recomendation(X_test, test_preds_proba, data, train_1, item_features)"
   ]
  },
  {
   "cell_type": "code",
   "execution_count": 15,
   "metadata": {},
   "outputs": [],
   "source": [
    "df_price = train_1.groupby('item_id')['price'].mean().reset_index()"
   ]
  },
  {
   "cell_type": "code",
   "execution_count": 16,
   "metadata": {},
   "outputs": [
    {
     "data": {
      "text/plain": [
       "0.8985969187675071"
      ]
     },
     "execution_count": 16,
     "metadata": {},
     "output_type": "execute_result"
    }
   ],
   "source": [
    "result_train.apply(lambda row: money_precision_at_k(row['recomendations'], row['actual'], df_price), axis=1).mean()"
   ]
  },
  {
   "cell_type": "code",
   "execution_count": 17,
   "metadata": {},
   "outputs": [],
   "source": [
    "test_2 = new_features(test_1, train_1, recommender, item_features, user_features, items_emb_df, users_emb_df, N)\n",
    "X_test_2 = test_2.drop(['target'], axis=1)\n",
    "y_test_2 = test_2[['target']]\n",
    "X_test_2[cat_feats + ['user_id', 'item_id']] = X_test_2[cat_feats + ['user_id', 'item_id']].astype('category')"
   ]
  },
  {
   "cell_type": "code",
   "execution_count": null,
   "metadata": {},
   "outputs": [
    {
     "name": "stderr",
     "output_type": "stream",
     "text": [
      " 80%|███████████████████████████████████████████████████████████████████████████████████████████████████████████████████████████████████████████████████████████████████████████████████████████████████████████████████████████▎                                                     | 1514/1885 [04:01<01:01,  6.06it/s]"
     ]
    }
   ],
   "source": [
    "test_preds_proba = lgb.predict_proba(X_test_2[basic_feats])[:, 1]\n",
    "result = get_final_recomendation(X_test_2, test_preds_proba, test_1, train_1, item_features)"
   ]
  },
  {
   "cell_type": "code",
   "execution_count": null,
   "metadata": {},
   "outputs": [],
   "source": [
    "result.apply(lambda row: money_precision_at_k(row['recomendations'], row['actual'], df_price), axis=1).mean()"
   ]
  },
  {
   "cell_type": "code",
   "execution_count": null,
   "metadata": {},
   "outputs": [],
   "source": [
    "result.drop('actual', axis=1, inplace=True)"
   ]
  },
  {
   "cell_type": "code",
   "execution_count": null,
   "metadata": {},
   "outputs": [],
   "source": [
    "result.to_csv('recommendations.csv', index=False)"
   ]
  },
  {
   "cell_type": "code",
   "execution_count": null,
   "metadata": {},
   "outputs": [],
   "source": []
  }
 ],
 "metadata": {
  "kernelspec": {
   "display_name": "Python 3",
   "language": "python",
   "name": "python3"
  },
  "language_info": {
   "codemirror_mode": {
    "name": "ipython",
    "version": 3
   },
   "file_extension": ".py",
   "mimetype": "text/x-python",
   "name": "python",
   "nbconvert_exporter": "python",
   "pygments_lexer": "ipython3",
   "version": "3.7.7"
  }
 },
 "nbformat": 4,
 "nbformat_minor": 2
}
