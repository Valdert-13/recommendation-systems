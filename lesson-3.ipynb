{
 "cells": [
  {
   "cell_type": "markdown",
   "metadata": {},
   "source": [
    "### 1. В чем принципиальные отличия item-item рекомендаций от ALS?"
   ]
  },
  {
   "cell_type": "markdown",
   "metadata": {},
   "source": [
    "Отличе в подходе: для item-item детерминированные алгоритмы, для ALS коллаборативные фильтрациии. Как следствие ALS намного шустрее item-item, за счет свойст товара."
   ]
  },
  {
   "cell_type": "markdown",
   "metadata": {},
   "source": [
    "### 2. Приведите 3 примера весов user-item матрицы для задачи рекоммендаций товаров"
   ]
  },
  {
   "cell_type": "markdown",
   "metadata": {},
   "source": [
    "1) Отзы о товаре х количество отзывов\n",
    "\n",
    "2) Стоимость одной единицы времени сеанса (пример: время разговора, длительность посиделок в ресторане)\n",
    "\n",
    "3) Соотношение положительных, отрицательных и нетральных коментариев (пример: обсуждение закона о нефтедобычи) для акций компаний"
   ]
  },
  {
   "cell_type": "markdown",
   "metadata": {},
   "source": [
    "### 3. Какие ограничения есть у ALS? (Тип информации, линейность/нелинейность факторов и т д)"
   ]
  },
  {
   "cell_type": "markdown",
   "metadata": {},
   "source": [
    "Ограничения:\n",
    "- отсутствие учета внешних факторов (динамические/циклические составляющие временного ряда, смена тренда и т.д)\n",
    "- качество входный данных неподрозумевает отклонений в сторону ухудшения\n",
    "- линейна относительно факторов, данные на выходе в теории принимают любое значение($-\\infty ; \\infty$), что в свою очередь вносит сложности в трактовании вероятности покупки конкретного товара.\n"
   ]
  },
  {
   "cell_type": "code",
   "execution_count": null,
   "metadata": {},
   "outputs": [],
   "source": []
  }
 ],
 "metadata": {
  "kernelspec": {
   "display_name": "Python 3",
   "language": "python",
   "name": "python3"
  },
  "language_info": {
   "codemirror_mode": {
    "name": "ipython",
    "version": 3
   },
   "file_extension": ".py",
   "mimetype": "text/x-python",
   "name": "python",
   "nbconvert_exporter": "python",
   "pygments_lexer": "ipython3",
   "version": "3.7.7"
  }
 },
 "nbformat": 4,
 "nbformat_minor": 4
}
